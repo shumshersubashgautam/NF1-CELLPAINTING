{
 "cells": [
  {
   "attachments": {},
   "cell_type": "markdown",
   "metadata": {},
   "source": [
    "# Perform segmentation and feature extraction for each plate using CellProfiler"
   ]
  },
  {
   "attachments": {},
   "cell_type": "markdown",
   "metadata": {},
   "source": [
    "## Import libraries"
   ]
  },
  {
   "cell_type": "code",
   "execution_count": 1,
   "metadata": {},
   "outputs": [],
   "source": [
    "import sys\n",
    "import pathlib\n",
    "\n",
    "sys.path.append(\"../\")\n",
    "from utils import cp_utils"
   ]
  },
  {
   "attachments": {},
   "cell_type": "markdown",
   "metadata": {},
   "source": [
    "## Set paths for each plate\n",
    "\n",
    "Note: Due to the different channel numbers between plates 1 + 2 (3 channels) and plates 3 + 3 prime (4 channels), there needs to be two different cppipe files (like in the IC module). "
   ]
  },
  {
   "cell_type": "code",
   "execution_count": 2,
   "metadata": {},
   "outputs": [],
   "source": [
    "# create output directory for SQLite files if needed\n",
    "path_to_output = pathlib.Path(\"./analysis_output\").resolve()\n",
    "path_to_output.mkdir(exist_ok=True)\n",
    "\n",
    "# dictionary with paths for each plate\n",
    "plates_info_dictionary = {\n",
    "    \"Plate_1\": {\n",
    "        # this pipeline is specific to plates 1 and 2\n",
    "        \"path_to_pipeline\": pathlib.Path(\"NF1_analysis_plate1_plate2.cppipe\").resolve(\n",
    "            strict=True\n",
    "        ),\n",
    "        \"path_to_images\": pathlib.Path(\n",
    "            \"../1.cellprofiler_ic/Corrected_Plate_1/\"\n",
    "        ).resolve(strict=True),\n",
    "    },\n",
    "    \"Plate_2\": {\n",
    "        # this pipeline is specific to plates 1 and 2\n",
    "        \"path_to_pipeline\": pathlib.Path(\"NF1_analysis_plate1_plate2.cppipe\").resolve(\n",
    "            strict=True\n",
    "        ),\n",
    "        \"path_to_images\": pathlib.Path(\n",
    "            \"../1.cellprofiler_ic/Corrected_Plate_2/\"\n",
    "        ).resolve(strict=True),\n",
    "    },\n",
    "    \"Plate_3\": {\n",
    "        # this pipeline is specific to plates 3 and 3'\n",
    "        \"path_to_pipeline\": pathlib.Path(\"NF1_analysis_plate3_plate3prime.cppipe\").resolve(\n",
    "            strict=True\n",
    "        ),\n",
    "        \"path_to_images\": pathlib.Path(\n",
    "            \"../1.cellprofiler_ic/Corrected_Plate_3/\"\n",
    "        ).resolve(strict=True),\n",
    "    },\n",
    "    \"Plate_3_prime\": {\n",
    "        # this pipeline is specific to plates 3 and 3'\n",
    "        \"path_to_pipeline\": pathlib.Path(\"NF1_analysis_plate3_plate3prime.cppipe\").resolve(\n",
    "            strict=True\n",
    "        ),\n",
    "        \"path_to_images\": pathlib.Path(\n",
    "            \"../1.cellprofiler_ic/Corrected_Plate_3_prime/\"\n",
    "        ).resolve(strict=True),\n",
    "    },\n",
    "}"
   ]
  },
  {
   "attachments": {},
   "cell_type": "markdown",
   "metadata": {},
   "source": [
    "## Run analysis pipeline on each plate\n",
    "\n",
    "This cell is not finished to completion due to how long it would take. It is ran in the python file instead."
   ]
  },
  {
   "cell_type": "code",
   "execution_count": 3,
   "metadata": {},
   "outputs": [
    {
     "name": "stdout",
     "output_type": "stream",
     "text": [
      "Running analysis on Plate_1!\n",
      "Starting CellProfiler run on Corrected_Plate_1\n",
      "The file is renamed to Plate_1.sqlite!\n",
      "Running analysis on Plate_2!\n",
      "Starting CellProfiler run on Corrected_Plate_2\n"
     ]
    },
    {
     "ename": "KeyboardInterrupt",
     "evalue": "",
     "output_type": "error",
     "traceback": [
      "\u001b[0;31m---------------------------------------------------------------------------\u001b[0m",
      "\u001b[0;31mKeyboardInterrupt\u001b[0m                         Traceback (most recent call last)",
      "Cell \u001b[0;32mIn[3], line 7\u001b[0m\n\u001b[1;32m      4\u001b[0m \u001b[39mprint\u001b[39m(\u001b[39mf\u001b[39m\u001b[39m\"\u001b[39m\u001b[39mRunning analysis on \u001b[39m\u001b[39m{\u001b[39;00mplate\u001b[39m}\u001b[39;00m\u001b[39m!\u001b[39m\u001b[39m\"\u001b[39m)\n\u001b[1;32m      6\u001b[0m \u001b[39m# run analysis pipeline\u001b[39;00m\n\u001b[0;32m----> 7\u001b[0m cp_utils\u001b[39m.\u001b[39;49mrun_cellprofiler(\n\u001b[1;32m      8\u001b[0m     path_to_pipeline\u001b[39m=\u001b[39;49mpath_to_pipeline,\n\u001b[1;32m      9\u001b[0m     path_to_output\u001b[39m=\u001b[39;49mpath_to_output,\n\u001b[1;32m     10\u001b[0m     path_to_images\u001b[39m=\u001b[39;49mpath_to_images,\n\u001b[1;32m     11\u001b[0m     \u001b[39m# name each SQLite file after plate name\u001b[39;49;00m\n\u001b[1;32m     12\u001b[0m     sqlite_name\u001b[39m=\u001b[39;49mplate,\n\u001b[1;32m     13\u001b[0m     analysis_run\u001b[39m=\u001b[39;49m\u001b[39mTrue\u001b[39;49;00m,\n\u001b[1;32m     14\u001b[0m )\n",
      "File \u001b[0;32m~/nf1_cellpainting_data/2.cellprofiler_analysis/../utils/cp_utils.py:68\u001b[0m, in \u001b[0;36mrun_cellprofiler\u001b[0;34m(path_to_pipeline, path_to_output, path_to_images, sqlite_name, analysis_run)\u001b[0m\n\u001b[1;32m     65\u001b[0m \u001b[39mwith\u001b[39;00m \u001b[39mopen\u001b[39m(pathlib\u001b[39m.\u001b[39mPath(\u001b[39mf\u001b[39m\u001b[39m\"\u001b[39m\u001b[39mlogs/cellprofiler_output_\u001b[39m\u001b[39m{\u001b[39;00mpathlib\u001b[39m.\u001b[39mPath(path_to_images)\u001b[39m.\u001b[39mname\u001b[39m}\u001b[39;00m\u001b[39m.log\u001b[39m\u001b[39m\"\u001b[39m), \u001b[39m\"\u001b[39m\u001b[39mw\u001b[39m\u001b[39m\"\u001b[39m) \u001b[39mas\u001b[39;00m cellprofiler_output_file:\n\u001b[1;32m     66\u001b[0m     \u001b[39m# run CellProfiler for a illumination correction pipeline\u001b[39;00m\n\u001b[1;32m     67\u001b[0m     command \u001b[39m=\u001b[39m \u001b[39mf\u001b[39m\u001b[39m\"\u001b[39m\u001b[39mcellprofiler -c -r -p \u001b[39m\u001b[39m{\u001b[39;00mpath_to_pipeline\u001b[39m}\u001b[39;00m\u001b[39m -o \u001b[39m\u001b[39m{\u001b[39;00mpath_to_output\u001b[39m}\u001b[39;00m\u001b[39m -i \u001b[39m\u001b[39m{\u001b[39;00mpath_to_images\u001b[39m}\u001b[39;00m\u001b[39m\"\u001b[39m\n\u001b[0;32m---> 68\u001b[0m     subprocess\u001b[39m.\u001b[39;49mrun(command, shell\u001b[39m=\u001b[39;49m\u001b[39mTrue\u001b[39;49;00m, stdout\u001b[39m=\u001b[39;49mcellprofiler_output_file, stderr\u001b[39m=\u001b[39;49mcellprofiler_output_file)\n\u001b[1;32m     69\u001b[0m cellprofiler_output_file\u001b[39m.\u001b[39mclose()\n\u001b[1;32m     71\u001b[0m \u001b[39mif\u001b[39;00m analysis_run:\n\u001b[1;32m     72\u001b[0m     \u001b[39m# runs through any files that are in the output path\u001b[39;00m\n",
      "File \u001b[0;32m~/anaconda3/envs/nf1_cellpainting_data/lib/python3.8/subprocess.py:495\u001b[0m, in \u001b[0;36mrun\u001b[0;34m(input, capture_output, timeout, check, *popenargs, **kwargs)\u001b[0m\n\u001b[1;32m    493\u001b[0m \u001b[39mwith\u001b[39;00m Popen(\u001b[39m*\u001b[39mpopenargs, \u001b[39m*\u001b[39m\u001b[39m*\u001b[39mkwargs) \u001b[39mas\u001b[39;00m process:\n\u001b[1;32m    494\u001b[0m     \u001b[39mtry\u001b[39;00m:\n\u001b[0;32m--> 495\u001b[0m         stdout, stderr \u001b[39m=\u001b[39m process\u001b[39m.\u001b[39;49mcommunicate(\u001b[39minput\u001b[39;49m, timeout\u001b[39m=\u001b[39;49mtimeout)\n\u001b[1;32m    496\u001b[0m     \u001b[39mexcept\u001b[39;00m TimeoutExpired \u001b[39mas\u001b[39;00m exc:\n\u001b[1;32m    497\u001b[0m         process\u001b[39m.\u001b[39mkill()\n",
      "File \u001b[0;32m~/anaconda3/envs/nf1_cellpainting_data/lib/python3.8/subprocess.py:1020\u001b[0m, in \u001b[0;36mPopen.communicate\u001b[0;34m(self, input, timeout)\u001b[0m\n\u001b[1;32m   1018\u001b[0m         stderr \u001b[39m=\u001b[39m \u001b[39mself\u001b[39m\u001b[39m.\u001b[39mstderr\u001b[39m.\u001b[39mread()\n\u001b[1;32m   1019\u001b[0m         \u001b[39mself\u001b[39m\u001b[39m.\u001b[39mstderr\u001b[39m.\u001b[39mclose()\n\u001b[0;32m-> 1020\u001b[0m     \u001b[39mself\u001b[39;49m\u001b[39m.\u001b[39;49mwait()\n\u001b[1;32m   1021\u001b[0m \u001b[39melse\u001b[39;00m:\n\u001b[1;32m   1022\u001b[0m     \u001b[39mif\u001b[39;00m timeout \u001b[39mis\u001b[39;00m \u001b[39mnot\u001b[39;00m \u001b[39mNone\u001b[39;00m:\n",
      "File \u001b[0;32m~/anaconda3/envs/nf1_cellpainting_data/lib/python3.8/subprocess.py:1083\u001b[0m, in \u001b[0;36mPopen.wait\u001b[0;34m(self, timeout)\u001b[0m\n\u001b[1;32m   1081\u001b[0m     endtime \u001b[39m=\u001b[39m _time() \u001b[39m+\u001b[39m timeout\n\u001b[1;32m   1082\u001b[0m \u001b[39mtry\u001b[39;00m:\n\u001b[0;32m-> 1083\u001b[0m     \u001b[39mreturn\u001b[39;00m \u001b[39mself\u001b[39;49m\u001b[39m.\u001b[39;49m_wait(timeout\u001b[39m=\u001b[39;49mtimeout)\n\u001b[1;32m   1084\u001b[0m \u001b[39mexcept\u001b[39;00m \u001b[39mKeyboardInterrupt\u001b[39;00m:\n\u001b[1;32m   1085\u001b[0m     \u001b[39m# https://bugs.python.org/issue25942\u001b[39;00m\n\u001b[1;32m   1086\u001b[0m     \u001b[39m# The first keyboard interrupt waits briefly for the child to\u001b[39;00m\n\u001b[1;32m   1087\u001b[0m     \u001b[39m# exit under the common assumption that it also received the ^C\u001b[39;00m\n\u001b[1;32m   1088\u001b[0m     \u001b[39m# generated SIGINT and will exit rapidly.\u001b[39;00m\n\u001b[1;32m   1089\u001b[0m     \u001b[39mif\u001b[39;00m timeout \u001b[39mis\u001b[39;00m \u001b[39mnot\u001b[39;00m \u001b[39mNone\u001b[39;00m:\n",
      "File \u001b[0;32m~/anaconda3/envs/nf1_cellpainting_data/lib/python3.8/subprocess.py:1806\u001b[0m, in \u001b[0;36mPopen._wait\u001b[0;34m(self, timeout)\u001b[0m\n\u001b[1;32m   1804\u001b[0m \u001b[39mif\u001b[39;00m \u001b[39mself\u001b[39m\u001b[39m.\u001b[39mreturncode \u001b[39mis\u001b[39;00m \u001b[39mnot\u001b[39;00m \u001b[39mNone\u001b[39;00m:\n\u001b[1;32m   1805\u001b[0m     \u001b[39mbreak\u001b[39;00m  \u001b[39m# Another thread waited.\u001b[39;00m\n\u001b[0;32m-> 1806\u001b[0m (pid, sts) \u001b[39m=\u001b[39m \u001b[39mself\u001b[39;49m\u001b[39m.\u001b[39;49m_try_wait(\u001b[39m0\u001b[39;49m)\n\u001b[1;32m   1807\u001b[0m \u001b[39m# Check the pid and loop as waitpid has been known to\u001b[39;00m\n\u001b[1;32m   1808\u001b[0m \u001b[39m# return 0 even without WNOHANG in odd situations.\u001b[39;00m\n\u001b[1;32m   1809\u001b[0m \u001b[39m# http://bugs.python.org/issue14396.\u001b[39;00m\n\u001b[1;32m   1810\u001b[0m \u001b[39mif\u001b[39;00m pid \u001b[39m==\u001b[39m \u001b[39mself\u001b[39m\u001b[39m.\u001b[39mpid:\n",
      "File \u001b[0;32m~/anaconda3/envs/nf1_cellpainting_data/lib/python3.8/subprocess.py:1764\u001b[0m, in \u001b[0;36mPopen._try_wait\u001b[0;34m(self, wait_flags)\u001b[0m\n\u001b[1;32m   1762\u001b[0m \u001b[39m\"\"\"All callers to this function MUST hold self._waitpid_lock.\"\"\"\u001b[39;00m\n\u001b[1;32m   1763\u001b[0m \u001b[39mtry\u001b[39;00m:\n\u001b[0;32m-> 1764\u001b[0m     (pid, sts) \u001b[39m=\u001b[39m os\u001b[39m.\u001b[39;49mwaitpid(\u001b[39mself\u001b[39;49m\u001b[39m.\u001b[39;49mpid, wait_flags)\n\u001b[1;32m   1765\u001b[0m \u001b[39mexcept\u001b[39;00m \u001b[39mChildProcessError\u001b[39;00m:\n\u001b[1;32m   1766\u001b[0m     \u001b[39m# This happens if SIGCLD is set to be ignored or waiting\u001b[39;00m\n\u001b[1;32m   1767\u001b[0m     \u001b[39m# for child processes has otherwise been disabled for our\u001b[39;00m\n\u001b[1;32m   1768\u001b[0m     \u001b[39m# process.  This child is dead, we can't get the status.\u001b[39;00m\n\u001b[1;32m   1769\u001b[0m     pid \u001b[39m=\u001b[39m \u001b[39mself\u001b[39m\u001b[39m.\u001b[39mpid\n",
      "\u001b[0;31mKeyboardInterrupt\u001b[0m: "
     ]
    }
   ],
   "source": [
    "# run through each plate with each set of paths based on dictionary\n",
    "for plate, info in plates_info_dictionary.items():\n",
    "    path_to_pipeline = info[\"path_to_pipeline\"]\n",
    "    path_to_images = info[\"path_to_images\"]\n",
    "    print(f\"Running analysis on {plate}!\")\n",
    "\n",
    "    # run analysis pipeline\n",
    "    cp_utils.run_cellprofiler(\n",
    "        path_to_pipeline=path_to_pipeline,\n",
    "        path_to_output=path_to_output,\n",
    "        path_to_images=path_to_images,\n",
    "        # name each SQLite file after plate name\n",
    "        sqlite_name=plate,\n",
    "        analysis_run=True,\n",
    "    )"
   ]
  }
 ],
 "metadata": {
  "kernelspec": {
   "display_name": "nf1_cellpainting_data",
   "language": "python",
   "name": "python3"
  },
  "language_info": {
   "codemirror_mode": {
    "name": "ipython",
    "version": 3
   },
   "file_extension": ".py",
   "mimetype": "text/x-python",
   "name": "python",
   "nbconvert_exporter": "python",
   "pygments_lexer": "ipython3",
   "version": "3.8.15"
  },
  "orig_nbformat": 4
 },
 "nbformat": 4,
 "nbformat_minor": 2
}
