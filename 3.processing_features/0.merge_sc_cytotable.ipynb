{
 "cells": [
  {
   "attachments": {},
   "cell_type": "markdown",
   "metadata": {},
   "source": [
    "# Merge single cells from CellProfiler outputs using CytoTable"
   ]
  },
  {
   "attachments": {},
   "cell_type": "markdown",
   "metadata": {},
   "source": [
    "## Import libraries"
   ]
  },
  {
   "cell_type": "code",
   "execution_count": 1,
   "metadata": {},
   "outputs": [],
   "source": [
    "import sys\n",
    "import pathlib\n",
    "import yaml\n",
    "\n",
    "# cytotable will merge objects from SQLite file into single cells and save as parquet file\n",
    "from cytotable import convert, presets\n",
    "\n",
    "sys.path.append(\"../utils\")\n",
    "import extraction_utils as sc_utils"
   ]
  },
  {
   "attachments": {},
   "cell_type": "markdown",
   "metadata": {},
   "source": [
    "## Set paths and variables"
   ]
  },
  {
   "cell_type": "code",
   "execution_count": 2,
   "metadata": {},
   "outputs": [],
   "source": [
    "# type of file output from CytoTable (currently only parquet)\n",
    "dest_datatype = \"parquet\"\n",
    "\n",
    "# preset configurations based on typical CellProfiler outputs\n",
    "preset = \"cellprofiler_sqlite_pycytominer\"\n",
    "# remove Image_Metadata_Plate from SELECT as this metadata was not extracted from file names\n",
    "# add Image_Metadata_Site as this is an important metadata when finding where single cells are located\n",
    "presets.config[\"cellprofiler_sqlite_pycytominer\"][\n",
    "    \"CONFIG_JOINS\"\n",
    "    # create filtered list of image features to be extracted and used for merging tables\n",
    "    # with the list of image features, this will merge the objects together using the image number,\n",
    "    # and parent objects to create all single cells (all objects associated to one cell)\n",
    "] = \"\"\"WITH Per_Image_Filtered AS (\n",
    "                SELECT\n",
    "                    Metadata_ImageNumber,\n",
    "                    Image_Metadata_Well,\n",
    "                    Image_Metadata_Site\n",
    "                FROM\n",
    "                    read_parquet('per_image.parquet')\n",
    "                )\n",
    "            SELECT\n",
    "                *\n",
    "            FROM\n",
    "                Per_Image_Filtered AS per_image\n",
    "            LEFT JOIN read_parquet('per_cytoplasm.parquet') AS per_cytoplasm ON\n",
    "                per_cytoplasm.Metadata_ImageNumber = per_image.Metadata_ImageNumber\n",
    "            LEFT JOIN read_parquet('per_cells.parquet') AS per_cells ON\n",
    "                per_cells.Metadata_ImageNumber = per_cytoplasm.Metadata_ImageNumber\n",
    "                AND per_cells.Metadata_Cells_Number_Object_Number = per_cytoplasm.Metadata_Cytoplasm_Parent_Cells\n",
    "            LEFT JOIN read_parquet('per_nuclei.parquet') AS per_nuclei ON\n",
    "                per_nuclei.Metadata_ImageNumber = per_cytoplasm.Metadata_ImageNumber\n",
    "                AND per_nuclei.Metadata_Nuclei_Number_Object_Number = per_cytoplasm.Metadata_Cytoplasm_Parent_Nuclei\n",
    "                \"\"\""
   ]
  },
  {
   "cell_type": "code",
   "execution_count": 3,
   "metadata": {},
   "outputs": [],
   "source": [
    "# dictionary with info for the sqlite file from each plate\n",
    "plate_info_dictionary = {\n",
    "    \"Plate_1\": {\n",
    "        # path to outputted SQLite file\n",
    "        \"source_path\": str(\n",
    "            pathlib.Path(\n",
    "                \"../2.cellprofiler_analysis/analysis_output/Plate_1.sqlite\"\n",
    "            )\n",
    "        ),\n",
    "        \"dest_path\": str(pathlib.Path(f\"./data/converted_data/Plate_1.parquet\")),\n",
    "    },\n",
    "    \"Plate_2\": {\n",
    "        # path to outputted SQLite file\n",
    "        \"source_path\": str(\n",
    "            pathlib.Path(\n",
    "                \"../2.cellprofiler_analysis/analysis_output/Plate_2.sqlite\"\n",
    "            )\n",
    "        ),\n",
    "        # path for merged single cell paraquet file (without annotations)\n",
    "        \"dest_path\": str(pathlib.Path(f\"./data/converted_data/Plate_2.parquet\")),\n",
    "    },\n",
    "    \"Plate_3\": {\n",
    "        # path to outputted SQLite file\n",
    "        \"source_path\": str(\n",
    "            pathlib.Path(\n",
    "                \"../2.cellprofiler_analysis/analysis_output/Plate_3.sqlite\"\n",
    "            )\n",
    "        ),\n",
    "        # path for merged single cell paraquet file (without annotations)\n",
    "        \"dest_path\": str(pathlib.Path(f\"./data/converted_data/Plate_3.parquet\")),\n",
    "    },\n",
    "    \"Plate_3_prime\": {\n",
    "        # path to outputted SQLite file\n",
    "        \"source_path\": str(\n",
    "            pathlib.Path(\n",
    "                \"../2.cellprofiler_analysis/analysis_output/Plate_3_prime.sqlite\"\n",
    "            )\n",
    "        ),\n",
    "        # path for merged single cell paraquet file (without annotations)\n",
    "        \"dest_path\": str(pathlib.Path(f\"./data/converted_data/Plate_3_prime.parquet\")),\n",
    "    }\n",
    "}"
   ]
  },
  {
   "attachments": {},
   "cell_type": "markdown",
   "metadata": {},
   "source": [
    "## Merge objects to single cells and convert SQLite to parquet file + add single cell metadata"
   ]
  },
  {
   "cell_type": "code",
   "execution_count": 4,
   "metadata": {},
   "outputs": [
    {
     "name": "stdout",
     "output_type": "stream",
     "text": [
      "Performing merge single cells and conversion on Plate_1!\n",
      "Merged and converted Plate_1.parquet!\n",
      "Added single cell count as metadata to Plate_1.parquet!\n",
      "Performing merge single cells and conversion on Plate_2!\n",
      "Merged and converted Plate_2.parquet!\n",
      "Added single cell count as metadata to Plate_2.parquet!\n",
      "Performing merge single cells and conversion on Plate_3!\n",
      "Merged and converted Plate_3.parquet!\n",
      "Added single cell count as metadata to Plate_3.parquet!\n",
      "Performing merge single cells and conversion on Plate_3_prime!\n",
      "Merged and converted Plate_3_prime.parquet!\n",
      "Added single cell count as metadata to Plate_3_prime.parquet!\n"
     ]
    }
   ],
   "source": [
    "# run through each run with each set of paths based on dictionary\n",
    "for plate, info in plate_info_dictionary.items():\n",
    "    source_path = info[\"source_path\"]\n",
    "    dest_path = info[\"dest_path\"]\n",
    "    print(f\"Performing merge single cells and conversion on {plate}!\")\n",
    "\n",
    "    # merge single cells and output as parquet file\n",
    "    convert(\n",
    "        source_path=source_path,\n",
    "        dest_path=dest_path,\n",
    "        dest_datatype=dest_datatype,\n",
    "        preset=preset,\n",
    "    )\n",
    "    print(f\"Merged and converted {pathlib.Path(dest_path).name}!\")\n",
    "\n",
    "    # add single cell count per well as metadata column to parquet file and save back to same path\n",
    "    sc_utils.add_sc_count_metadata_file(\n",
    "        data_path=dest_path, well_column_name=\"Image_Metadata_Well\", file_type=\"parquet\"\n",
    "    )\n",
    "    print(f\"Added single cell count as metadata to {pathlib.Path(dest_path).name}!\")"
   ]
  },
  {
   "attachments": {},
   "cell_type": "markdown",
   "metadata": {},
   "source": [
    "## Write dictionary to yaml file for use in downstream steps"
   ]
  },
  {
   "cell_type": "code",
   "execution_count": 5,
   "metadata": {},
   "outputs": [],
   "source": [
    "dictionary_path = pathlib.Path(\"./plate_info_dictionary.yaml\")\n",
    "with open(dictionary_path, 'w') as file:\n",
    "    yaml.dump(plate_info_dictionary, file)"
   ]
  }
 ],
 "metadata": {
  "kernelspec": {
   "display_name": "nf1_cellpainting_data",
   "language": "python",
   "name": "python3"
  },
  "language_info": {
   "codemirror_mode": {
    "name": "ipython",
    "version": 3
   },
   "file_extension": ".py",
   "mimetype": "text/x-python",
   "name": "python",
   "nbconvert_exporter": "python",
   "pygments_lexer": "ipython3",
   "version": "3.8.15"
  },
  "orig_nbformat": 4
 },
 "nbformat": 4,
 "nbformat_minor": 2
}
