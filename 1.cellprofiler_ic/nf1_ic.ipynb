{
 "cells": [
  {
   "attachments": {},
   "cell_type": "markdown",
   "metadata": {},
   "source": [
    "# Correct illumination and save images for each plate using CellProfiler"
   ]
  },
  {
   "attachments": {},
   "cell_type": "markdown",
   "metadata": {},
   "source": [
    "## Import libraries"
   ]
  },
  {
   "cell_type": "code",
   "execution_count": 1,
   "metadata": {},
   "outputs": [],
   "source": [
    "import sys\n",
    "import pathlib\n",
    "\n",
    "sys.path.append(\"../\")\n",
    "from utils import cp_utils"
   ]
  },
  {
   "attachments": {},
   "cell_type": "markdown",
   "metadata": {},
   "source": [
    "## Set paths for each plate\n",
    "\n",
    "Note: Output file path does not need to be strict since the `run_cellprofiler` function can create the output folder directory if it doesn't already exist. The other paths must be strict since these files should already exist for CellProfiler to run. The output directory doesn't need to already exist."
   ]
  },
  {
   "cell_type": "code",
   "execution_count": 2,
   "metadata": {},
   "outputs": [],
   "source": [
    "plates_info_dictionary = {\n",
    "    \"Plate_1\": {\n",
    "        # this pipeline is specific to plates 1 and 2 (due to channel difference from plates 3 and 3 prime)\n",
    "        \"path_to_pipeline\": pathlib.Path(\"NF1_illum_Plates_1_2.cppipe\").resolve(\n",
    "            strict=True\n",
    "        ),\n",
    "        \"path_to_images\": pathlib.Path(\"../0.download_data/Plate_1/\").resolve(\n",
    "            strict=True\n",
    "        ),\n",
    "        \"path_to_output\": pathlib.Path(\"Corrected_Plate_1\").resolve(),\n",
    "    },\n",
    "    \"Plate_2\": {\n",
    "        # this pipeline is specific to plates 1 and 2 (due to channel difference from plates 3 and 3 prime)\n",
    "        \"path_to_pipeline\": pathlib.Path(\"NF1_illum_Plates_1_2.cppipe\").resolve(\n",
    "            strict=True\n",
    "        ),\n",
    "        \"path_to_images\": pathlib.Path(\"../0.download_data/Plate_2/\").resolve(\n",
    "            strict=True\n",
    "        ),\n",
    "        \"path_to_output\": pathlib.Path(\"Corrected_Plate_2\").resolve(),\n",
    "    },\n",
    "    \"Plate_3\": {\n",
    "        # this pipeline is specific to plates 3 and 3 prime (due to channel difference from plates 1 and 2)\n",
    "        \"path_to_pipeline\": pathlib.Path(\"NF1_illum_Plate3_Plate3prime.cppipe\").resolve(\n",
    "            strict=True\n",
    "        ),\n",
    "        \"path_to_images\": pathlib.Path(\"../0.download_data/Plate_3/\").resolve(\n",
    "            strict=True\n",
    "        ),\n",
    "        \"path_to_output\": pathlib.Path(\"Corrected_Plate_3\").resolve(),\n",
    "    },\n",
    "    \"Plate_3_prime\": {\n",
    "        # this pipeline is specific to plates 3 and 3 prime (due to channel difference from plates 1 and 2)\n",
    "        \"path_to_pipeline\": pathlib.Path(\"NF1_illum_Plate3_Plate3prime.cppipe\").resolve(\n",
    "            strict=True\n",
    "        ),\n",
    "        \"path_to_images\": pathlib.Path(\"../0.download_data/Plate_3_prime/\").resolve(\n",
    "            strict=True\n",
    "        ),\n",
    "        \"path_to_output\": pathlib.Path(\"Corrected_Plate_3_prime\").resolve(),\n",
    "    },\n",
    "}"
   ]
  },
  {
   "attachments": {},
   "cell_type": "markdown",
   "metadata": {},
   "source": [
    "## Run illumination correction pipeline on each plate\n",
    "\n",
    "In this notebook, we do not run the cells to completion as we prefer to run the notebooks as nbconverted python files due to better stability."
   ]
  },
  {
   "cell_type": "code",
   "execution_count": 3,
   "metadata": {},
   "outputs": [
    {
     "name": "stdout",
     "output_type": "stream",
     "text": [
      "Correcting Plate_1\n",
      "Starting CellProfiler run on Plate_1\n",
      "The CellProfiler run has been completed with Plate_1. Please check log file for any errors.\n",
      "Correcting Plate_2\n",
      "Starting CellProfiler run on Plate_2\n",
      "The CellProfiler run has been completed with Plate_2. Please check log file for any errors.\n",
      "Correcting Plate_3\n",
      "Starting CellProfiler run on Plate_3\n"
     ]
    },
    {
     "ename": "KeyboardInterrupt",
     "evalue": "",
     "output_type": "error",
     "traceback": [
      "\u001b[0;31m---------------------------------------------------------------------------\u001b[0m",
      "\u001b[0;31mKeyboardInterrupt\u001b[0m                         Traceback (most recent call last)",
      "Cell \u001b[0;32mIn[3], line 9\u001b[0m\n\u001b[1;32m      6\u001b[0m \u001b[39mprint\u001b[39m(\u001b[39mf\u001b[39m\u001b[39m\"\u001b[39m\u001b[39mCorrecting \u001b[39m\u001b[39m{\u001b[39;00mplate\u001b[39m}\u001b[39;00m\u001b[39m\"\u001b[39m)\n\u001b[1;32m      8\u001b[0m \u001b[39m# run illumination correction pipeline and save images\u001b[39;00m\n\u001b[0;32m----> 9\u001b[0m cp_utils\u001b[39m.\u001b[39;49mrun_cellprofiler(\n\u001b[1;32m     10\u001b[0m     path_to_pipeline\u001b[39m=\u001b[39;49mpath_to_pipeline,\n\u001b[1;32m     11\u001b[0m     path_to_output\u001b[39m=\u001b[39;49mpath_to_output,\n\u001b[1;32m     12\u001b[0m     path_to_images\u001b[39m=\u001b[39;49mpath_to_images,\n\u001b[1;32m     13\u001b[0m     \u001b[39m# these variables are turned off for illum pipeline\u001b[39;49;00m\n\u001b[1;32m     14\u001b[0m     sqlite_name\u001b[39m=\u001b[39;49m\u001b[39mNone\u001b[39;49;00m,\n\u001b[1;32m     15\u001b[0m     analysis_run\u001b[39m=\u001b[39;49m\u001b[39mFalse\u001b[39;49;00m,\n\u001b[1;32m     16\u001b[0m )\n",
      "File \u001b[0;32m~/Desktop/GitHub_Repos/nf1_cellpainting_data/1.cellprofiler_ic/../utils/cp_utils.py:98\u001b[0m, in \u001b[0;36mrun_cellprofiler\u001b[0;34m(path_to_pipeline, path_to_output, path_to_images, sqlite_name, analysis_run)\u001b[0m\n\u001b[1;32m     80\u001b[0m     \u001b[39mwith\u001b[39;00m \u001b[39mopen\u001b[39m(\n\u001b[1;32m     81\u001b[0m         pathlib\u001b[39m.\u001b[39mPath(\n\u001b[1;32m     82\u001b[0m             \u001b[39mf\u001b[39m\u001b[39m\"\u001b[39m\u001b[39mlogs/cellprofiler_output_\u001b[39m\u001b[39m{\u001b[39;00mpathlib\u001b[39m.\u001b[39mPath(path_to_images)\u001b[39m.\u001b[39mname\u001b[39m}\u001b[39;00m\u001b[39m.log\u001b[39m\u001b[39m\"\u001b[39m\n\u001b[0;32m   (...)\u001b[0m\n\u001b[1;32m     85\u001b[0m     ) \u001b[39mas\u001b[39;00m cellprofiler_output_file:\n\u001b[1;32m     86\u001b[0m         \u001b[39m# run CellProfiler for a illumination correction pipeline\u001b[39;00m\n\u001b[1;32m     87\u001b[0m         command \u001b[39m=\u001b[39m [\n\u001b[1;32m     88\u001b[0m             \u001b[39m\"\u001b[39m\u001b[39mcellprofiler\u001b[39m\u001b[39m\"\u001b[39m,\n\u001b[1;32m     89\u001b[0m             \u001b[39m\"\u001b[39m\u001b[39m-c\u001b[39m\u001b[39m\"\u001b[39m,\n\u001b[0;32m   (...)\u001b[0m\n\u001b[1;32m     96\u001b[0m             path_to_images,\n\u001b[1;32m     97\u001b[0m         ]\n\u001b[0;32m---> 98\u001b[0m         subprocess\u001b[39m.\u001b[39;49mrun(\n\u001b[1;32m     99\u001b[0m             command,\n\u001b[1;32m    100\u001b[0m             stdout\u001b[39m=\u001b[39;49mcellprofiler_output_file,\n\u001b[1;32m    101\u001b[0m             stderr\u001b[39m=\u001b[39;49mcellprofiler_output_file,\n\u001b[1;32m    102\u001b[0m             check\u001b[39m=\u001b[39;49m\u001b[39mTrue\u001b[39;49;00m,\n\u001b[1;32m    103\u001b[0m         )\n\u001b[1;32m    104\u001b[0m         \u001b[39mprint\u001b[39m(\n\u001b[1;32m    105\u001b[0m             \u001b[39mf\u001b[39m\u001b[39m\"\u001b[39m\u001b[39mThe CellProfiler run has been completed with \u001b[39m\u001b[39m{\u001b[39;00mpathlib\u001b[39m.\u001b[39mPath(path_to_images)\u001b[39m.\u001b[39mname\u001b[39m}\u001b[39;00m\u001b[39m. Please check log file for any errors.\u001b[39m\u001b[39m\"\u001b[39m\n\u001b[1;32m    106\u001b[0m         )\n\u001b[1;32m    108\u001b[0m \u001b[39m# run CellProfiler analysis pipeline\u001b[39;00m\n",
      "File \u001b[0;32m~/opt/anaconda3/envs/nf1_cellpainting_data/lib/python3.8/subprocess.py:495\u001b[0m, in \u001b[0;36mrun\u001b[0;34m(input, capture_output, timeout, check, *popenargs, **kwargs)\u001b[0m\n\u001b[1;32m    493\u001b[0m \u001b[39mwith\u001b[39;00m Popen(\u001b[39m*\u001b[39mpopenargs, \u001b[39m*\u001b[39m\u001b[39m*\u001b[39mkwargs) \u001b[39mas\u001b[39;00m process:\n\u001b[1;32m    494\u001b[0m     \u001b[39mtry\u001b[39;00m:\n\u001b[0;32m--> 495\u001b[0m         stdout, stderr \u001b[39m=\u001b[39m process\u001b[39m.\u001b[39;49mcommunicate(\u001b[39minput\u001b[39;49m, timeout\u001b[39m=\u001b[39;49mtimeout)\n\u001b[1;32m    496\u001b[0m     \u001b[39mexcept\u001b[39;00m TimeoutExpired \u001b[39mas\u001b[39;00m exc:\n\u001b[1;32m    497\u001b[0m         process\u001b[39m.\u001b[39mkill()\n",
      "File \u001b[0;32m~/opt/anaconda3/envs/nf1_cellpainting_data/lib/python3.8/subprocess.py:1020\u001b[0m, in \u001b[0;36mPopen.communicate\u001b[0;34m(self, input, timeout)\u001b[0m\n\u001b[1;32m   1018\u001b[0m         stderr \u001b[39m=\u001b[39m \u001b[39mself\u001b[39m\u001b[39m.\u001b[39mstderr\u001b[39m.\u001b[39mread()\n\u001b[1;32m   1019\u001b[0m         \u001b[39mself\u001b[39m\u001b[39m.\u001b[39mstderr\u001b[39m.\u001b[39mclose()\n\u001b[0;32m-> 1020\u001b[0m     \u001b[39mself\u001b[39;49m\u001b[39m.\u001b[39;49mwait()\n\u001b[1;32m   1021\u001b[0m \u001b[39melse\u001b[39;00m:\n\u001b[1;32m   1022\u001b[0m     \u001b[39mif\u001b[39;00m timeout \u001b[39mis\u001b[39;00m \u001b[39mnot\u001b[39;00m \u001b[39mNone\u001b[39;00m:\n",
      "File \u001b[0;32m~/opt/anaconda3/envs/nf1_cellpainting_data/lib/python3.8/subprocess.py:1083\u001b[0m, in \u001b[0;36mPopen.wait\u001b[0;34m(self, timeout)\u001b[0m\n\u001b[1;32m   1081\u001b[0m     endtime \u001b[39m=\u001b[39m _time() \u001b[39m+\u001b[39m timeout\n\u001b[1;32m   1082\u001b[0m \u001b[39mtry\u001b[39;00m:\n\u001b[0;32m-> 1083\u001b[0m     \u001b[39mreturn\u001b[39;00m \u001b[39mself\u001b[39;49m\u001b[39m.\u001b[39;49m_wait(timeout\u001b[39m=\u001b[39;49mtimeout)\n\u001b[1;32m   1084\u001b[0m \u001b[39mexcept\u001b[39;00m \u001b[39mKeyboardInterrupt\u001b[39;00m:\n\u001b[1;32m   1085\u001b[0m     \u001b[39m# https://bugs.python.org/issue25942\u001b[39;00m\n\u001b[1;32m   1086\u001b[0m     \u001b[39m# The first keyboard interrupt waits briefly for the child to\u001b[39;00m\n\u001b[1;32m   1087\u001b[0m     \u001b[39m# exit under the common assumption that it also received the ^C\u001b[39;00m\n\u001b[1;32m   1088\u001b[0m     \u001b[39m# generated SIGINT and will exit rapidly.\u001b[39;00m\n\u001b[1;32m   1089\u001b[0m     \u001b[39mif\u001b[39;00m timeout \u001b[39mis\u001b[39;00m \u001b[39mnot\u001b[39;00m \u001b[39mNone\u001b[39;00m:\n",
      "File \u001b[0;32m~/opt/anaconda3/envs/nf1_cellpainting_data/lib/python3.8/subprocess.py:1806\u001b[0m, in \u001b[0;36mPopen._wait\u001b[0;34m(self, timeout)\u001b[0m\n\u001b[1;32m   1804\u001b[0m \u001b[39mif\u001b[39;00m \u001b[39mself\u001b[39m\u001b[39m.\u001b[39mreturncode \u001b[39mis\u001b[39;00m \u001b[39mnot\u001b[39;00m \u001b[39mNone\u001b[39;00m:\n\u001b[1;32m   1805\u001b[0m     \u001b[39mbreak\u001b[39;00m  \u001b[39m# Another thread waited.\u001b[39;00m\n\u001b[0;32m-> 1806\u001b[0m (pid, sts) \u001b[39m=\u001b[39m \u001b[39mself\u001b[39;49m\u001b[39m.\u001b[39;49m_try_wait(\u001b[39m0\u001b[39;49m)\n\u001b[1;32m   1807\u001b[0m \u001b[39m# Check the pid and loop as waitpid has been known to\u001b[39;00m\n\u001b[1;32m   1808\u001b[0m \u001b[39m# return 0 even without WNOHANG in odd situations.\u001b[39;00m\n\u001b[1;32m   1809\u001b[0m \u001b[39m# http://bugs.python.org/issue14396.\u001b[39;00m\n\u001b[1;32m   1810\u001b[0m \u001b[39mif\u001b[39;00m pid \u001b[39m==\u001b[39m \u001b[39mself\u001b[39m\u001b[39m.\u001b[39mpid:\n",
      "File \u001b[0;32m~/opt/anaconda3/envs/nf1_cellpainting_data/lib/python3.8/subprocess.py:1764\u001b[0m, in \u001b[0;36mPopen._try_wait\u001b[0;34m(self, wait_flags)\u001b[0m\n\u001b[1;32m   1762\u001b[0m \u001b[39m\u001b[39m\u001b[39m\"\"\"All callers to this function MUST hold self._waitpid_lock.\"\"\"\u001b[39;00m\n\u001b[1;32m   1763\u001b[0m \u001b[39mtry\u001b[39;00m:\n\u001b[0;32m-> 1764\u001b[0m     (pid, sts) \u001b[39m=\u001b[39m os\u001b[39m.\u001b[39;49mwaitpid(\u001b[39mself\u001b[39;49m\u001b[39m.\u001b[39;49mpid, wait_flags)\n\u001b[1;32m   1765\u001b[0m \u001b[39mexcept\u001b[39;00m \u001b[39mChildProcessError\u001b[39;00m:\n\u001b[1;32m   1766\u001b[0m     \u001b[39m# This happens if SIGCLD is set to be ignored or waiting\u001b[39;00m\n\u001b[1;32m   1767\u001b[0m     \u001b[39m# for child processes has otherwise been disabled for our\u001b[39;00m\n\u001b[1;32m   1768\u001b[0m     \u001b[39m# process.  This child is dead, we can't get the status.\u001b[39;00m\n\u001b[1;32m   1769\u001b[0m     pid \u001b[39m=\u001b[39m \u001b[39mself\u001b[39m\u001b[39m.\u001b[39mpid\n",
      "\u001b[0;31mKeyboardInterrupt\u001b[0m: "
     ]
    }
   ],
   "source": [
    "# run through each plate with each set of paths based on dictionary\n",
    "for plate, info in plates_info_dictionary.items():\n",
    "    path_to_pipeline = info[\"path_to_pipeline\"]\n",
    "    path_to_output = info[\"path_to_output\"]\n",
    "    # make output dir if needed\n",
    "    path_to_output.mkdir(exist_ok=True)\n",
    "    path_to_images = info[\"path_to_images\"]\n",
    "    print(f\"Correcting {plate}\")\n",
    "\n",
    "    # run illumination correction pipeline and save images\n",
    "    cp_utils.run_cellprofiler(\n",
    "        path_to_pipeline=path_to_pipeline,\n",
    "        path_to_output=path_to_output,\n",
    "        path_to_images=path_to_images,\n",
    "        # these variables are turned off for illum pipeline\n",
    "        sqlite_name=None,\n",
    "        analysis_run=False,\n",
    "    )"
   ]
  }
 ],
 "metadata": {
  "kernelspec": {
   "display_name": "nf1_cellpainting_data",
   "language": "python",
   "name": "python3"
  },
  "language_info": {
   "codemirror_mode": {
    "name": "ipython",
    "version": 3
   },
   "file_extension": ".py",
   "mimetype": "text/x-python",
   "name": "python",
   "nbconvert_exporter": "python",
   "pygments_lexer": "ipython3",
   "version": "3.8.15"
  },
  "orig_nbformat": 4
 },
 "nbformat": 4,
 "nbformat_minor": 2
}
