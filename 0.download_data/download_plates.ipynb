{
 "cells": [
  {
   "attachments": {},
   "cell_type": "markdown",
   "metadata": {},
   "source": [
    "# Download NF1 datasets from Figshare"
   ]
  },
  {
   "attachments": {},
   "cell_type": "markdown",
   "metadata": {},
   "source": [
    "## Import libraries"
   ]
  },
  {
   "cell_type": "code",
   "execution_count": 1,
   "metadata": {},
   "outputs": [],
   "source": [
    "import os\n",
    "import pathlib\n",
    "import shutil\n",
    "\n",
    "import sys\n",
    "sys.path.append(\"../\")\n",
    "from utils import download_figshare as downfig"
   ]
  },
  {
   "attachments": {},
   "cell_type": "markdown",
   "metadata": {},
   "source": [
    "## Set constant paths/variables"
   ]
  },
  {
   "cell_type": "code",
   "execution_count": 2,
   "metadata": {},
   "outputs": [],
   "source": [
    "# figshare url for both plates\n",
    "figshare_url = \"https://figshare.com/ndownloader/articles/\"\n",
    "\n",
    "# metadata folder for metadata files from both plates to be moved into\n",
    "metadata_dir = pathlib.Path(\"metadata\")"
   ]
  },
  {
   "attachments": {},
   "cell_type": "markdown",
   "metadata": {},
   "source": [
    "## Set dictionary with specific path/variables for each plate\n",
    "\n",
    "**Note:** You are able to see the correct URL for the plate by copying the link from the `Download all` button on the item (term used for dataset/plate) from the NF1 Schwann Cell Genotype Cell Painting Assay project. As well, there are mutliple versions of this dataset due to correcting the number of images and the metadata files."
   ]
  },
  {
   "cell_type": "code",
   "execution_count": 3,
   "metadata": {},
   "outputs": [],
   "source": [
    "# since we are dealing with zip files, we use the optional parameter `output_dir` where we \n",
    "# specify where to extact the files to\n",
    "download_plates_info_dictionary = {\n",
    "    \"Plate_1\": {\n",
    "        \"figshare_id\": \"22233292\",\n",
    "        \"version_number\": \"2\",\n",
    "        \"output_folder\": \"Plate_1_zip\",\n",
    "        # save extracted files from figshare download to a folder in the `0.download_data` directory\n",
    "        \"output_dir\": pathlib.Path(\"./Plate_1\"),\n",
    "    },\n",
    "    \"Plate_2\": {\n",
    "        \"figshare_id\": \"22233700\",\n",
    "        \"version_number\": \"4\",\n",
    "        \"output_folder\": \"Plate_2_zip\",\n",
    "        # save extracted files from figshare download to a folder in the `0.download_data` directory\n",
    "        \"output_dir\": pathlib.Path(\"./Plate_2\"),\n",
    "    },\n",
    "    # these plates are combined due to the figsahre project containing zip files with the images for each\n",
    "    # plate that will need to be extracted in a second step\n",
    "    \"Plates_3_and_3_prime\": {\n",
    "        \"figshare_id\": \"22592890\",\n",
    "        \"version_number\": \"2\",\n",
    "        \"output_folder\": \"Plates_3_zip\",\n",
    "        # save extracted files from figshare download to a folder in the `0.download_data` directory\n",
    "        \"output_dir\": pathlib.Path(\"./Plates_3_and_3_prime\"),\n",
    "    },\n",
    "}"
   ]
  },
  {
   "attachments": {},
   "cell_type": "markdown",
   "metadata": {},
   "source": [
    "## Download files for all plates\n",
    "\n",
    "**Note:** In the case of the NF1 Schwann Cell Project, the items on figshare are downloaded as zip files so we will have the `unzip_download` parameter turned on to extract the items from the zip file into the respective plate directory."
   ]
  },
  {
   "cell_type": "code",
   "execution_count": 4,
   "metadata": {},
   "outputs": [
    {
     "name": "stdout",
     "output_type": "stream",
     "text": [
      "The downloaded zip file contents have been extracted into Plate_1 folder for plate with ID 22233292/versions/2!\n",
      "The metadata has been moved into its own directory!\n",
      "The downloaded zip file contents have been extracted into Plate_2 folder for plate with ID 22233700/versions/4!\n",
      "The metadata has been moved into its own directory!\n",
      "The downloaded zip file contents have been extracted into Plates_3_and_3_prime folder for plate with ID 22592890/versions/1!\n",
      "The metadata has been moved into its own directory!\n"
     ]
    }
   ],
   "source": [
    "for _, info in download_plates_info_dictionary.items():\n",
    "    # set the parameters for the function as variables based on the plate dictionary info\n",
    "    figshare_id = str(\n",
    "        info[\"figshare_id\"] + \"/versions/\" + info[\"version_number\"]\n",
    "    )\n",
    "    output_folder = info[\"output_folder\"]\n",
    "    output_dir = info[\"output_dir\"]\n",
    "\n",
    "    # download images and metadata for both plates\n",
    "    downfig.download_figshare(\n",
    "        figshare_id=figshare_id,\n",
    "        output_file=output_folder,\n",
    "        output_dir=output_dir,\n",
    "        metadata_dir=metadata_dir,\n",
    "        figshare_url=figshare_url,\n",
    "        # zip files are downloaded from figshare so they need to be unzipped\n",
    "        unzip_download=\"True\",\n",
    "    )"
   ]
  },
  {
   "attachments": {},
   "cell_type": "markdown",
   "metadata": {},
   "source": [
    "## Extract images from extracted zip file from figshare download"
   ]
  },
  {
   "cell_type": "code",
   "execution_count": 5,
   "metadata": {},
   "outputs": [
    {
     "name": "stdout",
     "output_type": "stream",
     "text": [
      "Starting extraction on Plate_3 zip file!\n",
      "All images/files within the zip file have been extracted to Plate_3!\n",
      "Starting extraction on Plate_3_prime zip file!\n",
      "All images/files within the zip file have been extracted to Plate_3_prime!\n",
      "The directory containing zip files from Figshare has been deleted as the files have been extracted!\n"
     ]
    }
   ],
   "source": [
    "# this dictionary contains the paths to the extracted zip file from the previous step for each plate\n",
    "# and the path to the directory for the images\n",
    "zip_images_dictionary ={\n",
    "    \"Plate_3\": {\n",
    "        \"path_to_zip_file\": pathlib.Path(\"./Plates_3_and_3_prime/plate_3.zip\"),\n",
    "        \"extraction_path\": pathlib.Path(\"./Plate_3\"),\n",
    "    },\n",
    "    \"Plate_3_prime\": {\n",
    "        \"path_to_zip_file\": pathlib.Path(\"./Plates_3_and_3_prime/plate_3_prime.zip\"),\n",
    "        \"extraction_path\": pathlib.Path(\"./Plate_3_prime\"),\n",
    "    },\n",
    "}\n",
    "\n",
    "for plate, info in zip_images_dictionary.items():\n",
    "    # set the parameters for the function as variables based on the plate dictionary info\n",
    "    path_to_zip_file = info[\"path_to_zip_file\"]\n",
    "    extraction_path = info[\"extraction_path\"]\n",
    "    print(f\"Starting extraction on {plate} zip file!\")\n",
    "\n",
    "    # download images and metadata for both plates\n",
    "    downfig.extract_zip_from_Figshare(\n",
    "        path_to_zip_file=path_to_zip_file,\n",
    "        extraction_path=extraction_path,\n",
    "    )\n",
    "\n",
    "# remove the parent directory with the zip files as we have moved all the images\n",
    "parent_directory = os.path.dirname(path_to_zip_file)\n",
    "shutil.rmtree(parent_directory)\n",
    "print(\"The directory containing zip files from Figshare has been deleted as the files have been extracted!\")\n"
   ]
  }
 ],
 "metadata": {
  "kernelspec": {
   "display_name": "base",
   "language": "python",
   "name": "python3"
  },
  "language_info": {
   "codemirror_mode": {
    "name": "ipython",
    "version": 3
   },
   "file_extension": ".py",
   "mimetype": "text/x-python",
   "name": "python",
   "nbconvert_exporter": "python",
   "pygments_lexer": "ipython3",
   "version": "3.8.15"
  },
  "orig_nbformat": 4
 },
 "nbformat": 4,
 "nbformat_minor": 2
}
